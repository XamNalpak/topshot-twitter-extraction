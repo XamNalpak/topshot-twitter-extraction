{
 "cells": [
  {
   "cell_type": "markdown",
   "metadata": {},
   "source": [
    "## Twitter Pull using Twython\n",
    "### Author: Kevin Mentzer\n",
    "### Additions: Max Paul\n",
    "### Last Update Date: 4-16-21\n",
    "### adding SQL"
   ]
  },
  {
   "cell_type": "code",
   "execution_count": 1,
   "metadata": {},
   "outputs": [],
   "source": [
    "from twython import Twython\n",
    "\n",
    "twitter = Twython('5s2E2pi6FiF3aLwq76bowa99u',\n",
    "'nCI8surLZmgkxuC3vCIfmWnMbqh4MJpNY7pycUmFlqyvdptfgS',\n",
    "'444208254-ZtOSdwvZqAjwYqSQB9vXMUzAT6XMXmvbyTyj6dUO',\n",
    "'h3UKqsfcjuRAgC0ut5jg3TF560nXurCeD0rWjwCmxYmH0')\n",
    "\n",
    "#twitter.get_home_timeline()\n",
    "#twitter.search(q='@NBATopShot+AND+Giveaway')"
   ]
  },
  {
   "cell_type": "code",
   "execution_count": 3,
   "metadata": {},
   "outputs": [
    {
     "output_type": "stream",
     "name": "stdout",
     "text": [
      "error - sleeping ('Connection broken: IncompleteRead(0 bytes read, 1 more expected)', IncompleteRead(0 bytes read, 1 more expected))\n",
      "error - sleeping ('Connection broken: IncompleteRead(0 bytes read, 1 more expected)', IncompleteRead(0 bytes read, 1 more expected))\n",
      "error - sleeping ('Connection broken: IncompleteRead(0 bytes read)', IncompleteRead(0 bytes read))\n",
      "error - sleeping ('Connection broken: IncompleteRead(0 bytes read)', IncompleteRead(0 bytes read))\n",
      "error - sleeping ('Connection broken: IncompleteRead(0 bytes read)', IncompleteRead(0 bytes read))\n",
      "error - sleeping ('Connection broken: IncompleteRead(0 bytes read, 1 more expected)', IncompleteRead(0 bytes read, 1 more expected))\n",
      "error - sleeping ('Connection broken: IncompleteRead(0 bytes read, 1 more expected)', IncompleteRead(0 bytes read, 1 more expected))\n",
      "error - sleeping ('Connection broken: IncompleteRead(0 bytes read, 1 more expected)', IncompleteRead(0 bytes read, 1 more expected))\n",
      "Exiting\n"
     ]
    }
   ],
   "source": [
    "from twython import TwythonStreamer  \n",
    "import csv\n",
    "import codecs\n",
    "import json\n",
    "import time\n",
    "# Filter out unwanted data\n",
    "def process_tweet(tweet):  \n",
    "    d = {}\n",
    "    d['hashtags'] = [hashtag['text'] for hashtag in tweet['entities']['hashtags']]\n",
    "    d['tweet_id'] = tweet['id']\n",
    "    d['created_at'] = tweet['created_at']\n",
    "    d['text'] = tweet['text']\n",
    "    d['name'] = tweet['user']['name']\n",
    "    d['user'] = tweet['user']['screen_name']\n",
    "    d['user_id'] = tweet['user']['id']\n",
    "    d['user_loc'] = tweet['user']['location']\n",
    "    d['user_desc'] = tweet['user']['description']\n",
    "    d['user_followers'] = tweet['user']['followers_count']\n",
    "    d['user_friends'] = tweet['user']['friends_count']\n",
    "    d['user_listed'] = tweet['user']['listed_count']\n",
    "    d['user_created'] = tweet['user']['created_at']\n",
    "    d['user_favs'] = tweet['user']['favourites_count']\n",
    "    d['user_verified'] = tweet['user']['verified']\n",
    "    d['user_statuses'] = tweet['user']['statuses_count']\n",
    "\n",
    "    return d\n",
    "\n",
    "\n",
    "# Create a class that inherits TwythonStreamer\n",
    "class MyStreamer(TwythonStreamer):     \n",
    "\n",
    "    # Received data\n",
    "    def on_success(self, data):\n",
    "\n",
    "        # Save full JSON to file\n",
    "        with open('topGiveaway.json', 'w') as jsonfile:\n",
    "            json.dump(data, jsonfile)        \n",
    "\n",
    "        # Only collect tweets in English\n",
    "        if data['lang'] == 'en':\n",
    "            tweet_data = process_tweet(data)\n",
    "            self.write_to_pgadmin(tweet_data)\n",
    "            #would call mongo function here to write it to the database\n",
    "\n",
    "    # Problem with the API\n",
    "    def on_error(self, status_code, data):\n",
    "        print(status_code, data)\n",
    "        self.disconnect()\n",
    "\n",
    "    # Save each tweet to csv file\n",
    "    def save_to_csv(self, tweet):\n",
    "        with open('topgiveaway.csv', 'a', encoding=\"utf8\") as file:\n",
    "            writer = csv.writer(file)\n",
    "            writer.writerow(list(tweet.values()))\n",
    "            \n",
    "    def write_to_pgadmin(self,tweet):\n",
    "        import psycopg2\n",
    "        conn = psycopg2.connect(host=\"localhost\",\n",
    "                                database=\"top-twit-mapping\",\n",
    "                                port=5432,\n",
    "                                user='postgres',\n",
    "                                password=3301)\n",
    "        cur = conn.cursor()\n",
    "        tweet = tweet\n",
    "        # insert user information\n",
    "        command = '''INSERT INTO twitter_user (realname,username,user_id,user_loc,user_desc,user_followers,user_friends,user_listed,user_created,user_favs,user_verified,user_statuses) VALUES (%s,%s,%s,%s,%s,%s,%s,%s,%s,%s,%s,%s) ON CONFLICT\n",
    "                     (user_id) DO NOTHING;'''\n",
    "        cur.execute(command,(tweet['name'],tweet['user'],tweet['user_id'],tweet['user_loc'],tweet['user_desc'],tweet['user_followers'],tweet['user_friends'],tweet['user_listed'],tweet['user_created'],tweet['user_favs'],tweet['user_verified'],tweet['user_statuses']))     \n",
    "       \n",
    "        command2 = '''INSERT INTO twitter_tweet (tweet_id,created_at,tweet,user_id) VALUES (%s,%s,%s,%s) ON CONFLICT\n",
    "                     (tweet_id) DO NOTHING;'''\n",
    "        cur.execute(command2,(tweet['tweet_id'],tweet['created_at'],tweet['text'],tweet['user_id']))\n",
    "        \n",
    "        conn.commit()\n",
    "        \n",
    "        cur.close()\n",
    "        \n",
    "        conn.close()\n",
    "        \n",
    "while True:\n",
    "    try:\n",
    "        # Instantiate from our streaming class\n",
    "        stream = MyStreamer('5s2E2pi6FiF3aLwq76bowa99u','nCI8surLZmgkxuC3vCIfmWnMbqh4MJpNY7pycUmFlqyvdptfgS','444208254-ZtOSdwvZqAjwYqSQB9vXMUzAT6XMXmvbyTyj6dUO','h3UKqsfcjuRAgC0ut5jg3TF560nXurCeD0rWjwCmxYmH0')\n",
    "\n",
    "        # Start the stream\n",
    "        stream.statuses.filter(track='@NBATopShot,Giveaway,TS:') #Track uses comma separated list \n",
    "    except (KeyboardInterrupt):\n",
    "        print('Exiting')\n",
    "        break\n",
    "    except Exception as e:   \n",
    "        print(\"error - sleeping \" + str(e))\n",
    "        time.sleep(5)\n",
    "        continue\n"
   ]
  },
  {
   "cell_type": "code",
   "execution_count": null,
   "metadata": {},
   "outputs": [],
   "source": []
  }
 ],
 "metadata": {
  "kernelspec": {
   "name": "python385jvsc74a57bd07d5ecdfd88d71d9992d04b8d02066e33925b5773a00975a361e7c77682b530b7",
   "display_name": "Python 3.8.5 64-bit ('maxkp': virtualenv)"
  },
  "language_info": {
   "codemirror_mode": {
    "name": "ipython",
    "version": 3
   },
   "file_extension": ".py",
   "mimetype": "text/x-python",
   "name": "python",
   "nbconvert_exporter": "python",
   "pygments_lexer": "ipython3",
   "version": "3.8.5-final"
  },
  "metadata": {
   "interpreter": {
    "hash": "63fd5069d213b44bf678585dea6b12cceca9941eaf7f819626cde1f2670de90d"
   }
  }
 },
 "nbformat": 4,
 "nbformat_minor": 4
}